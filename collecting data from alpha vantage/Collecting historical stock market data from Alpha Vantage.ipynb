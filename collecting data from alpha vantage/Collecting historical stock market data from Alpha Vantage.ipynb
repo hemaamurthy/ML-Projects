{
 "cells": [
  {
   "cell_type": "markdown",
   "id": "f1b71e09",
   "metadata": {},
   "source": [
    "## code"
   ]
  },
  {
   "cell_type": "markdown",
   "id": "014a8d8f",
   "metadata": {},
   "source": [
    "## Importing data from url"
   ]
  },
  {
   "cell_type": "code",
   "execution_count": 26,
   "id": "020a0103",
   "metadata": {},
   "outputs": [
    {
     "name": "stdout",
     "output_type": "stream",
     "text": [
      "Requirement already satisfied: openpyxl in c:\\users\\91812\\anaconda3\\lib\\site-packages (3.0.10)\n",
      "Requirement already satisfied: et_xmlfile in c:\\users\\91812\\anaconda3\\lib\\site-packages (from openpyxl) (1.1.0)\n",
      "Note: you may need to restart the kernel to use updated packages.\n"
     ]
    }
   ],
   "source": [
    "pip install openpyxl"
   ]
  },
  {
   "cell_type": "code",
   "execution_count": 27,
   "id": "2f343581",
   "metadata": {
    "scrolled": true
   },
   "outputs": [
    {
     "name": "stdout",
     "output_type": "stream",
     "text": [
      "{'Meta Data': {'1. Information': 'Daily Prices (open, high, low, close) and Volumes', '2. Symbol': 'IBM', '3. Last Refreshed': '2024-07-31', '4. Output Size': 'Compact', '5. Time Zone': 'US/Eastern'}, 'Time Series (Daily)': {'2024-07-31': {'1. open': '191.0000', '2. high': '194.5499', '3. low': '189.9900', '4. close': '192.1400', '5. volume': '5459871'}, '2024-07-30': {'1. open': '191.4800', '2. high': '192.7700', '3. low': '189.0900', '4. close': '191.0400', '5. volume': '3064978'}, '2024-07-29': {'1. open': '193.1800', '2. high': '193.2900', '3. low': '189.1800', '4. close': '191.5000', '5. volume': '3336806'}, '2024-07-26': {'1. open': '190.5100', '2. high': '193.5700', '3. low': '189.6220', '4. close': '191.7500', '5. volume': '4294875'}, '2024-07-25': {'1. open': '186.8000', '2. high': '196.2600', '3. low': '185.3000', '4. close': '191.9800', '5. volume': '9532802'}, '2024-07-24': {'1. open': '184.1400', '2. high': '185.0714', '3. low': '183.1450', '4. close': '184.0200', '5. volume': '6962071'}, '2024-07-23': {'1. open': '184.3600', '2. high': '185.3800', '3. low': '183.0100', '4. close': '184.1000', '5. volume': '2180225'}, '2024-07-22': {'1. open': '183.4000', '2. high': '184.9700', '3. low': '182.8600', '4. close': '184.1500', '5. volume': '2488525'}, '2024-07-19': {'1. open': '186.3300', '2. high': '187.0000', '3. low': '181.9500', '4. close': '183.2500', '5. volume': '3816039'}, '2024-07-18': {'1. open': '186.6400', '2. high': '189.4700', '3. low': '185.1000', '4. close': '185.2200', '5. volume': '3487808'}, '2024-07-17': {'1. open': '185.4400', '2. high': '187.9400', '3. low': '185.0700', '4. close': '187.4500', '5. volume': '4225302'}, '2024-07-16': {'1. open': '184.6700', '2. high': '186.6000', '3. low': '184.5200', '4. close': '185.8100', '5. volume': '3374526'}, '2024-07-15': {'1. open': '183.3800', '2. high': '184.9000', '3. low': '182.6000', '4. close': '182.8800', '5. volume': '2925794'}, '2024-07-12': {'1. open': '178.5600', '2. high': '184.1600', '3. low': '178.5000', '4. close': '182.8300', '5. volume': '4785565'}, '2024-07-11': {'1. open': '177.6500', '2. high': '179.4400', '3. low': '176.6200', '4. close': '178.3100', '5. volume': '2807145'}, '2024-07-10': {'1. open': '176.6000', '2. high': '178.2200', '3. low': '174.4500', '4. close': '177.8400', '5. volume': '3462182'}, '2024-07-09': {'1. open': '177.6000', '2. high': '177.7000', '3. low': '175.5800', '4. close': '176.4800', '5. volume': '2513305'}, '2024-07-08': {'1. open': '176.4100', '2. high': '178.5900', '3. low': '176.0100', '4. close': '177.6400', '5. volume': '2503038'}, '2024-07-05': {'1. open': '175.7400', '2. high': '176.0900', '3. low': '173.9500', '4. close': '176.0200', '5. volume': '2085970'}, '2024-07-03': {'1. open': '177.8800', '2. high': '177.9800', '3. low': '175.1700', '4. close': '175.7300', '5. volume': '1649049'}, '2024-07-02': {'1. open': '174.8400', '2. high': '177.4850', '3. low': '174.3200', '4. close': '177.3000', '5. volume': '2883275'}, '2024-07-01': {'1. open': '173.4500', '2. high': '176.4600', '3. low': '173.3800', '4. close': '175.1000', '5. volume': '3320961'}, '2024-06-28': {'1. open': '170.8500', '2. high': '173.4600', '3. low': '170.5300', '4. close': '172.9500', '5. volume': '4193459'}, '2024-06-27': {'1. open': '171.1200', '2. high': '172.5000', '3. low': '170.4800', '4. close': '170.8500', '5. volume': '2894001'}, '2024-06-26': {'1. open': '171.2800', '2. high': '172.6800', '3. low': '170.4100', '4. close': '171.8700', '5. volume': '2779016'}, '2024-06-25': {'1. open': '175.1400', '2. high': '175.7526', '3. low': '171.4200', '4. close': '172.6000', '5. volume': '4119267'}, '2024-06-24': {'1. open': '175.0000', '2. high': '178.4599', '3. low': '174.1500', '4. close': '175.0100', '5. volume': '4864735'}, '2024-06-21': {'1. open': '173.9700', '2. high': '174.9600', '3. low': '171.4000', '4. close': '172.4600', '5. volume': '10182025'}, '2024-06-20': {'1. open': '174.0800', '2. high': '174.2800', '3. low': '171.2200', '4. close': '173.9200', '5. volume': '4723078'}, '2024-06-18': {'1. open': '170.0000', '2. high': '170.7500', '3. low': '168.3800', '4. close': '170.5500', '5. volume': '3386442'}, '2024-06-17': {'1. open': '168.7600', '2. high': '169.7200', '3. low': '167.5000', '4. close': '169.5000', '5. volume': '3239815'}, '2024-06-14': {'1. open': '168.2900', '2. high': '169.4700', '3. low': '167.2300', '4. close': '169.2100', '5. volume': '2777717'}, '2024-06-13': {'1. open': '169.0100', '2. high': '169.5900', '3. low': '168.3350', '4. close': '169.1200', '5. volume': '3525717'}, '2024-06-12': {'1. open': '171.3500', '2. high': '172.4700', '3. low': '168.1010', '4. close': '169.0000', '5. volume': '3522698'}, '2024-06-11': {'1. open': '169.9800', '2. high': '170.0000', '3. low': '166.8100', '4. close': '169.3200', '5. volume': '2951251'}, '2024-06-10': {'1. open': '169.5500', '2. high': '170.7600', '3. low': '168.8800', '4. close': '170.3800', '5. volume': '3444684'}, '2024-06-07': {'1. open': '168.1800', '2. high': '171.3050', '3. low': '168.0600', '4. close': '170.0100', '5. volume': '3475495'}, '2024-06-06': {'1. open': '167.3800', '2. high': '168.4400', '3. low': '166.8000', '4. close': '168.2000', '5. volume': '2207263'}, '2024-06-05': {'1. open': '166.4100', '2. high': '167.7900', '3. low': '165.7800', '4. close': '167.3800', '5. volume': '3049377'}, '2024-06-04': {'1. open': '164.6000', '2. high': '166.4000', '3. low': '163.8800', '4. close': '165.8100', '5. volume': '2594203'}, '2024-06-03': {'1. open': '166.5400', '2. high': '166.7800', '3. low': '163.5300', '4. close': '165.2800', '5. volume': '2776058'}, '2024-05-31': {'1. open': '165.7000', '2. high': '166.9700', '3. low': '163.8400', '4. close': '166.8500', '5. volume': '4905002'}, '2024-05-30': {'1. open': '165.5600', '2. high': '166.7300', '3. low': '164.2300', '4. close': '165.6300', '5. volume': '3852963'}, '2024-05-29': {'1. open': '168.0000', '2. high': '168.6300', '3. low': '166.2100', '4. close': '167.0500', '5. volume': '4206576'}, '2024-05-28': {'1. open': '170.4400', '2. high': '171.0850', '3. low': '168.6500', '4. close': '169.6600', '5. volume': '2629645'}, '2024-05-24': {'1. open': '171.4800', '2. high': '172.0100', '3. low': '170.2100', '4. close': '170.8900', '5. volume': '2587829'}, '2024-05-23': {'1. open': '175.3900', '2. high': '175.4600', '3. low': '170.4350', '4. close': '170.6700', '5. volume': '3341335'}, '2024-05-22': {'1. open': '173.3900', '2. high': '174.9900', '3. low': '172.7600', '4. close': '173.6900', '5. volume': '3294900'}, '2024-05-21': {'1. open': '169.9400', '2. high': '174.9700', '3. low': '169.9400', '4. close': '173.4700', '5. volume': '6459800'}, '2024-05-20': {'1. open': '169.0000', '2. high': '170.1600', '3. low': '168.3800', '4. close': '169.9200', '5. volume': '2726261'}, '2024-05-17': {'1. open': '168.9700', '2. high': '169.1100', '3. low': '167.3300', '4. close': '169.0300', '5. volume': '2956387'}, '2024-05-16': {'1. open': '168.2600', '2. high': '169.6300', '3. low': '167.7900', '4. close': '168.9700', '5. volume': '3492267'}, '2024-05-15': {'1. open': '167.9400', '2. high': '168.3500', '3. low': '167.3400', '4. close': '168.2600', '5. volume': '4468823'}, '2024-05-14': {'1. open': '167.8600', '2. high': '168.1300', '3. low': '166.4800', '4. close': '167.3600', '5. volume': '2600967'}, '2024-05-13': {'1. open': '167.5000', '2. high': '168.0600', '3. low': '166.7600', '4. close': '167.5600', '5. volume': '2414859'}, '2024-05-10': {'1. open': '167.1300', '2. high': '168.0700', '3. low': '166.3200', '4. close': '167.1500', '5. volume': '2255370'}, '2024-05-09': {'1. open': '167.5000', '2. high': '167.5500', '3. low': '165.8800', '4. close': '166.2700', '5. volume': '4266616'}, '2024-05-08': {'1. open': '168.0100', '2. high': '170.2600', '3. low': '167.9000', '4. close': '169.9000', '5. volume': '3522011'}, '2024-05-07': {'1. open': '169.0000', '2. high': '169.2900', '3. low': '167.9400', '4. close': '168.3800', '5. volume': '3155260'}, '2024-05-06': {'1. open': '166.5000', '2. high': '168.6700', '3. low': '166.3800', '4. close': '168.6100', '5. volume': '4222266'}, '2024-05-03': {'1. open': '165.0000', '2. high': '166.6100', '3. low': '164.9200', '4. close': '165.7100', '5. volume': '3400405'}, '2024-05-02': {'1. open': '164.3500', '2. high': '164.8800', '3. low': '162.6200', '4. close': '164.6900', '5. volume': '3829853'}, '2024-05-01': {'1. open': '165.6900', '2. high': '166.2700', '3. low': '164.3000', '4. close': '164.4300', '5. volume': '4030960'}, '2024-04-30': {'1. open': '166.4900', '2. high': '166.7600', '3. low': '165.2605', '4. close': '166.2000', '5. volume': '6011634'}, '2024-04-29': {'1. open': '167.4000', '2. high': '168.2200', '3. low': '166.2250', '4. close': '167.4300', '5. volume': '5263342'}, '2024-04-26': {'1. open': '167.5000', '2. high': '167.8700', '3. low': '165.7300', '4. close': '167.1300', '5. volume': '8983796'}, '2024-04-25': {'1. open': '168.2000', '2. high': '172.4500', '3. low': '165.6600', '4. close': '168.9100', '5. volume': '16702150'}, '2024-04-24': {'1. open': '183.1700', '2. high': '184.2900', '3. low': '181.4000', '4. close': '184.1000', '5. volume': '7616643'}, '2024-04-23': {'1. open': '182.7300', '2. high': '184.6800', '3. low': '179.0000', '4. close': '182.1900', '5. volume': '5950229'}, '2024-04-22': {'1. open': '182.4500', '2. high': '183.3150', '3. low': '180.4500', '4. close': '181.9000', '5. volume': '3076451'}, '2024-04-19': {'1. open': '182.4300', '2. high': '182.8000', '3. low': '180.5700', '4. close': '181.5800', '5. volume': '3037990'}, '2024-04-18': {'1. open': '182.3500', '2. high': '183.4600', '3. low': '180.1700', '4. close': '181.4700', '5. volume': '2886733'}, '2024-04-17': {'1. open': '184.1600', '2. high': '184.6700', '3. low': '181.7800', '4. close': '183.1000', '5. volume': '3003033'}, '2024-04-16': {'1. open': '185.5900', '2. high': '185.7100', '3. low': '182.8600', '4. close': '183.7500', '5. volume': '4473654'}, '2024-04-15': {'1. open': '185.5700', '2. high': '187.4800', '3. low': '180.8800', '4. close': '181.2500', '5. volume': '3528140'}, '2024-04-12': {'1. open': '184.0000', '2. high': '185.1699', '3. low': '181.6850', '4. close': '182.2700', '5. volume': '3547378'}, '2024-04-11': {'1. open': '186.0400', '2. high': '186.7950', '3. low': '184.5800', '4. close': '185.9000', '5. volume': '2861736'}, '2024-04-10': {'1. open': '187.4200', '2. high': '187.9150', '3. low': '185.5200', '4. close': '186.0400', '5. volume': '3081915'}, '2024-04-09': {'1. open': '190.5400', '2. high': '191.2500', '3. low': '186.6600', '4. close': '189.3100', '5. volume': '2790673'}, '2024-04-08': {'1. open': '189.2400', '2. high': '190.2400', '3. low': '188.9118', '4. close': '189.8200', '5. volume': '2673611'}, '2024-04-05': {'1. open': '188.5900', '2. high': '190.3200', '3. low': '188.0200', '4. close': '189.1400', '5. volume': '2012428'}, '2024-04-04': {'1. open': '192.0000', '2. high': '193.2800', '3. low': '187.3400', '4. close': '187.9400', '5. volume': '2924438'}, '2024-04-03': {'1. open': '188.6000', '2. high': '191.3500', '3. low': '188.4850', '4. close': '190.9000', '5. volume': '2818910'}, '2024-04-02': {'1. open': '189.1400', '2. high': '189.8000', '3. low': '187.6000', '4. close': '188.8800', '5. volume': '2689711'}, '2024-04-01': {'1. open': '190.0000', '2. high': '190.4600', '3. low': '188.5200', '4. close': '189.8300', '5. volume': '2362586'}, '2024-03-28': {'1. open': '190.9400', '2. high': '191.9299', '3. low': '190.3400', '4. close': '190.9600', '5. volume': '3742169'}, '2024-03-27': {'1. open': '189.6000', '2. high': '190.9600', '3. low': '188.6000', '4. close': '190.8000', '5. volume': '3693305'}, '2024-03-26': {'1. open': '189.0200', '2. high': '190.0000', '3. low': '188.5000', '4. close': '188.5000', '5. volume': '4229535'}, '2024-03-25': {'1. open': '190.2600', '2. high': '190.8200', '3. low': '188.7500', '4. close': '188.7900', '5. volume': '3718289'}, '2024-03-22': {'1. open': '192.0000', '2. high': '192.9850', '3. low': '190.5100', '4. close': '190.8400', '5. volume': '3988398'}, '2024-03-21': {'1. open': '193.0000', '2. high': '193.3700', '3. low': '190.0100', '4. close': '191.9000', '5. volume': '6013561'}, '2024-03-20': {'1. open': '192.8700', '2. high': '193.9800', '3. low': '191.3100', '4. close': '193.9600', '5. volume': '3238643'}, '2024-03-19': {'1. open': '191.4900', '2. high': '193.5800', '3. low': '190.2800', '4. close': '193.3400', '5. volume': '5317341'}, '2024-03-18': {'1. open': '191.7000', '2. high': '193.2300', '3. low': '190.3200', '4. close': '191.6900', '5. volume': '5410562'}, '2024-03-15': {'1. open': '191.9900', '2. high': '193.0573', '3. low': '190.7000', '4. close': '191.0700', '5. volume': '8828184'}, '2024-03-14': {'1. open': '196.9500', '2. high': '197.7480', '3. low': '192.1200', '4. close': '193.4300', '5. volume': '4102202'}, '2024-03-13': {'1. open': '197.5500', '2. high': '198.1000', '3. low': '195.3200', '4. close': '196.7000', '5. volume': '3960737'}, '2024-03-12': {'1. open': '192.4600', '2. high': '199.1800', '3. low': '192.1500', '4. close': '197.7800', '5. volume': '5862512'}, '2024-03-11': {'1. open': '195.0900', '2. high': '195.3800', '3. low': '190.8800', '4. close': '191.7300', '5. volume': '4712688'}, '2024-03-08': {'1. open': '196.0600', '2. high': '197.7700', '3. low': '194.3800', '4. close': '195.9500', '5. volume': '3943113'}}}\n"
     ]
    }
   ],
   "source": [
    "import requests\n",
    "import pandas as pd\n",
    "\n",
    "# Define the URL with your API key\n",
    "url = 'https://www.alphavantage.co/query?function=TIME_SERIES_DAILY&symbol=IBM&apikey=2QDY6D94HVBF6M4L'\n",
    "\n",
    "# Send the GET request to Alpha Vantage API\n",
    "r = requests.get(url)\n",
    "data = r.json()\n",
    "\n",
    "# Print the response to understand its structure\n",
    "print(data)\n"
   ]
  },
  {
   "cell_type": "code",
   "execution_count": 28,
   "id": "d242c47c",
   "metadata": {},
   "outputs": [
    {
     "data": {
      "text/html": [
       "<div>\n",
       "<style scoped>\n",
       "    .dataframe tbody tr th:only-of-type {\n",
       "        vertical-align: middle;\n",
       "    }\n",
       "\n",
       "    .dataframe tbody tr th {\n",
       "        vertical-align: top;\n",
       "    }\n",
       "\n",
       "    .dataframe thead th {\n",
       "        text-align: right;\n",
       "    }\n",
       "</style>\n",
       "<table border=\"1\" class=\"dataframe\">\n",
       "  <thead>\n",
       "    <tr style=\"text-align: right;\">\n",
       "      <th></th>\n",
       "      <th>1. open</th>\n",
       "      <th>2. high</th>\n",
       "      <th>3. low</th>\n",
       "      <th>4. close</th>\n",
       "      <th>5. volume</th>\n",
       "    </tr>\n",
       "  </thead>\n",
       "  <tbody>\n",
       "    <tr>\n",
       "      <th>2024-07-31</th>\n",
       "      <td>191.0000</td>\n",
       "      <td>194.5499</td>\n",
       "      <td>189.9900</td>\n",
       "      <td>192.1400</td>\n",
       "      <td>5459871</td>\n",
       "    </tr>\n",
       "    <tr>\n",
       "      <th>2024-07-30</th>\n",
       "      <td>191.4800</td>\n",
       "      <td>192.7700</td>\n",
       "      <td>189.0900</td>\n",
       "      <td>191.0400</td>\n",
       "      <td>3064978</td>\n",
       "    </tr>\n",
       "    <tr>\n",
       "      <th>2024-07-29</th>\n",
       "      <td>193.1800</td>\n",
       "      <td>193.2900</td>\n",
       "      <td>189.1800</td>\n",
       "      <td>191.5000</td>\n",
       "      <td>3336806</td>\n",
       "    </tr>\n",
       "    <tr>\n",
       "      <th>2024-07-26</th>\n",
       "      <td>190.5100</td>\n",
       "      <td>193.5700</td>\n",
       "      <td>189.6220</td>\n",
       "      <td>191.7500</td>\n",
       "      <td>4294875</td>\n",
       "    </tr>\n",
       "    <tr>\n",
       "      <th>2024-07-25</th>\n",
       "      <td>186.8000</td>\n",
       "      <td>196.2600</td>\n",
       "      <td>185.3000</td>\n",
       "      <td>191.9800</td>\n",
       "      <td>9532802</td>\n",
       "    </tr>\n",
       "    <tr>\n",
       "      <th>...</th>\n",
       "      <td>...</td>\n",
       "      <td>...</td>\n",
       "      <td>...</td>\n",
       "      <td>...</td>\n",
       "      <td>...</td>\n",
       "    </tr>\n",
       "    <tr>\n",
       "      <th>2024-03-14</th>\n",
       "      <td>196.9500</td>\n",
       "      <td>197.7480</td>\n",
       "      <td>192.1200</td>\n",
       "      <td>193.4300</td>\n",
       "      <td>4102202</td>\n",
       "    </tr>\n",
       "    <tr>\n",
       "      <th>2024-03-13</th>\n",
       "      <td>197.5500</td>\n",
       "      <td>198.1000</td>\n",
       "      <td>195.3200</td>\n",
       "      <td>196.7000</td>\n",
       "      <td>3960737</td>\n",
       "    </tr>\n",
       "    <tr>\n",
       "      <th>2024-03-12</th>\n",
       "      <td>192.4600</td>\n",
       "      <td>199.1800</td>\n",
       "      <td>192.1500</td>\n",
       "      <td>197.7800</td>\n",
       "      <td>5862512</td>\n",
       "    </tr>\n",
       "    <tr>\n",
       "      <th>2024-03-11</th>\n",
       "      <td>195.0900</td>\n",
       "      <td>195.3800</td>\n",
       "      <td>190.8800</td>\n",
       "      <td>191.7300</td>\n",
       "      <td>4712688</td>\n",
       "    </tr>\n",
       "    <tr>\n",
       "      <th>2024-03-08</th>\n",
       "      <td>196.0600</td>\n",
       "      <td>197.7700</td>\n",
       "      <td>194.3800</td>\n",
       "      <td>195.9500</td>\n",
       "      <td>3943113</td>\n",
       "    </tr>\n",
       "  </tbody>\n",
       "</table>\n",
       "<p>100 rows × 5 columns</p>\n",
       "</div>"
      ],
      "text/plain": [
       "             1. open   2. high    3. low  4. close 5. volume\n",
       "2024-07-31  191.0000  194.5499  189.9900  192.1400   5459871\n",
       "2024-07-30  191.4800  192.7700  189.0900  191.0400   3064978\n",
       "2024-07-29  193.1800  193.2900  189.1800  191.5000   3336806\n",
       "2024-07-26  190.5100  193.5700  189.6220  191.7500   4294875\n",
       "2024-07-25  186.8000  196.2600  185.3000  191.9800   9532802\n",
       "...              ...       ...       ...       ...       ...\n",
       "2024-03-14  196.9500  197.7480  192.1200  193.4300   4102202\n",
       "2024-03-13  197.5500  198.1000  195.3200  196.7000   3960737\n",
       "2024-03-12  192.4600  199.1800  192.1500  197.7800   5862512\n",
       "2024-03-11  195.0900  195.3800  190.8800  191.7300   4712688\n",
       "2024-03-08  196.0600  197.7700  194.3800  195.9500   3943113\n",
       "\n",
       "[100 rows x 5 columns]"
      ]
     },
     "execution_count": 28,
     "metadata": {},
     "output_type": "execute_result"
    }
   ],
   "source": [
    "bse_df= pd.DataFrame.from_dict(data[\"Time Series (Daily)\"], orient=\"index\")\n",
    "bse_df"
   ]
  },
  {
   "cell_type": "code",
   "execution_count": 29,
   "id": "05313911",
   "metadata": {},
   "outputs": [
    {
     "data": {
      "text/html": [
       "<div>\n",
       "<style scoped>\n",
       "    .dataframe tbody tr th:only-of-type {\n",
       "        vertical-align: middle;\n",
       "    }\n",
       "\n",
       "    .dataframe tbody tr th {\n",
       "        vertical-align: top;\n",
       "    }\n",
       "\n",
       "    .dataframe thead th {\n",
       "        text-align: right;\n",
       "    }\n",
       "</style>\n",
       "<table border=\"1\" class=\"dataframe\">\n",
       "  <thead>\n",
       "    <tr style=\"text-align: right;\">\n",
       "      <th></th>\n",
       "      <th>1. open</th>\n",
       "      <th>2. high</th>\n",
       "      <th>3. low</th>\n",
       "      <th>4. close</th>\n",
       "      <th>5. volume</th>\n",
       "    </tr>\n",
       "  </thead>\n",
       "  <tbody>\n",
       "    <tr>\n",
       "      <th>2024-07-31</th>\n",
       "      <td>191.0000</td>\n",
       "      <td>194.5499</td>\n",
       "      <td>189.9900</td>\n",
       "      <td>192.1400</td>\n",
       "      <td>5459871</td>\n",
       "    </tr>\n",
       "    <tr>\n",
       "      <th>2024-07-30</th>\n",
       "      <td>191.4800</td>\n",
       "      <td>192.7700</td>\n",
       "      <td>189.0900</td>\n",
       "      <td>191.0400</td>\n",
       "      <td>3064978</td>\n",
       "    </tr>\n",
       "    <tr>\n",
       "      <th>2024-07-29</th>\n",
       "      <td>193.1800</td>\n",
       "      <td>193.2900</td>\n",
       "      <td>189.1800</td>\n",
       "      <td>191.5000</td>\n",
       "      <td>3336806</td>\n",
       "    </tr>\n",
       "    <tr>\n",
       "      <th>2024-07-26</th>\n",
       "      <td>190.5100</td>\n",
       "      <td>193.5700</td>\n",
       "      <td>189.6220</td>\n",
       "      <td>191.7500</td>\n",
       "      <td>4294875</td>\n",
       "    </tr>\n",
       "    <tr>\n",
       "      <th>2024-07-25</th>\n",
       "      <td>186.8000</td>\n",
       "      <td>196.2600</td>\n",
       "      <td>185.3000</td>\n",
       "      <td>191.9800</td>\n",
       "      <td>9532802</td>\n",
       "    </tr>\n",
       "    <tr>\n",
       "      <th>...</th>\n",
       "      <td>...</td>\n",
       "      <td>...</td>\n",
       "      <td>...</td>\n",
       "      <td>...</td>\n",
       "      <td>...</td>\n",
       "    </tr>\n",
       "    <tr>\n",
       "      <th>2024-03-14</th>\n",
       "      <td>196.9500</td>\n",
       "      <td>197.7480</td>\n",
       "      <td>192.1200</td>\n",
       "      <td>193.4300</td>\n",
       "      <td>4102202</td>\n",
       "    </tr>\n",
       "    <tr>\n",
       "      <th>2024-03-13</th>\n",
       "      <td>197.5500</td>\n",
       "      <td>198.1000</td>\n",
       "      <td>195.3200</td>\n",
       "      <td>196.7000</td>\n",
       "      <td>3960737</td>\n",
       "    </tr>\n",
       "    <tr>\n",
       "      <th>2024-03-12</th>\n",
       "      <td>192.4600</td>\n",
       "      <td>199.1800</td>\n",
       "      <td>192.1500</td>\n",
       "      <td>197.7800</td>\n",
       "      <td>5862512</td>\n",
       "    </tr>\n",
       "    <tr>\n",
       "      <th>2024-03-11</th>\n",
       "      <td>195.0900</td>\n",
       "      <td>195.3800</td>\n",
       "      <td>190.8800</td>\n",
       "      <td>191.7300</td>\n",
       "      <td>4712688</td>\n",
       "    </tr>\n",
       "    <tr>\n",
       "      <th>2024-03-08</th>\n",
       "      <td>196.0600</td>\n",
       "      <td>197.7700</td>\n",
       "      <td>194.3800</td>\n",
       "      <td>195.9500</td>\n",
       "      <td>3943113</td>\n",
       "    </tr>\n",
       "  </tbody>\n",
       "</table>\n",
       "<p>100 rows × 5 columns</p>\n",
       "</div>"
      ],
      "text/plain": [
       "             1. open   2. high    3. low  4. close 5. volume\n",
       "2024-07-31  191.0000  194.5499  189.9900  192.1400   5459871\n",
       "2024-07-30  191.4800  192.7700  189.0900  191.0400   3064978\n",
       "2024-07-29  193.1800  193.2900  189.1800  191.5000   3336806\n",
       "2024-07-26  190.5100  193.5700  189.6220  191.7500   4294875\n",
       "2024-07-25  186.8000  196.2600  185.3000  191.9800   9532802\n",
       "...              ...       ...       ...       ...       ...\n",
       "2024-03-14  196.9500  197.7480  192.1200  193.4300   4102202\n",
       "2024-03-13  197.5500  198.1000  195.3200  196.7000   3960737\n",
       "2024-03-12  192.4600  199.1800  192.1500  197.7800   5862512\n",
       "2024-03-11  195.0900  195.3800  190.8800  191.7300   4712688\n",
       "2024-03-08  196.0600  197.7700  194.3800  195.9500   3943113\n",
       "\n",
       "[100 rows x 5 columns]"
      ]
     },
     "execution_count": 29,
     "metadata": {},
     "output_type": "execute_result"
    }
   ],
   "source": [
    "bse_df.index= pd.to_datetime(bse_df.index)\n",
    "bse_df"
   ]
  },
  {
   "cell_type": "code",
   "execution_count": 30,
   "id": "0ad51ace",
   "metadata": {},
   "outputs": [
    {
     "name": "stdout",
     "output_type": "stream",
     "text": [
      "<class 'pandas.core.frame.DataFrame'>\n",
      "DatetimeIndex: 100 entries, 2024-07-31 to 2024-03-08\n",
      "Data columns (total 5 columns):\n",
      " #   Column     Non-Null Count  Dtype \n",
      "---  ------     --------------  ----- \n",
      " 0   1. open    100 non-null    object\n",
      " 1   2. high    100 non-null    object\n",
      " 2   3. low     100 non-null    object\n",
      " 3   4. close   100 non-null    object\n",
      " 4   5. volume  100 non-null    object\n",
      "dtypes: object(5)\n",
      "memory usage: 4.7+ KB\n"
     ]
    }
   ],
   "source": [
    "bse_df.info()"
   ]
  },
  {
   "cell_type": "code",
   "execution_count": 31,
   "id": "bf466775",
   "metadata": {},
   "outputs": [
    {
     "name": "stdout",
     "output_type": "stream",
     "text": [
      "<class 'pandas.core.frame.DataFrame'>\n",
      "DatetimeIndex: 100 entries, 2024-07-31 to 2024-03-08\n",
      "Data columns (total 5 columns):\n",
      " #   Column     Non-Null Count  Dtype  \n",
      "---  ------     --------------  -----  \n",
      " 0   1. open    100 non-null    float64\n",
      " 1   2. high    100 non-null    float64\n",
      " 2   3. low     100 non-null    float64\n",
      " 3   4. close   100 non-null    float64\n",
      " 4   5. volume  100 non-null    float64\n",
      "dtypes: float64(5)\n",
      "memory usage: 4.7 KB\n"
     ]
    }
   ],
   "source": [
    "bse_df = bse_df.astype('float')\n",
    "bse_df.info()#Converting to float ensures that the data is in a numerical format suitable for accurate calculations and analysis."
   ]
  },
  {
   "cell_type": "markdown",
   "id": "a96c4c9d",
   "metadata": {},
   "source": [
    "## Missing values"
   ]
  },
  {
   "cell_type": "code",
   "execution_count": 32,
   "id": "6aa64383",
   "metadata": {},
   "outputs": [
    {
     "data": {
      "text/plain": [
       "1. open      0\n",
       "2. high      0\n",
       "3. low       0\n",
       "4. close     0\n",
       "5. volume    0\n",
       "dtype: int64"
      ]
     },
     "execution_count": 32,
     "metadata": {},
     "output_type": "execute_result"
    }
   ],
   "source": [
    "bse_df.isna().sum()"
   ]
  },
  {
   "cell_type": "markdown",
   "id": "4bcb095f",
   "metadata": {},
   "source": [
    "## Formating the columns"
   ]
  },
  {
   "cell_type": "markdown",
   "id": "2a4ba2cc",
   "metadata": {},
   "source": [
    "#### code renames the columns of the bse_df dataframe by removing the first three characters of each column name and capitalizing the rest, thus standardizing and cleaning up the column names.\n",
    "\n",
    "\n",
    "\n",
    "\n",
    "\n",
    "\n"
   ]
  },
  {
   "cell_type": "code",
   "execution_count": 33,
   "id": "62f56a58",
   "metadata": {
    "scrolled": true
   },
   "outputs": [
    {
     "data": {
      "text/html": [
       "<div>\n",
       "<style scoped>\n",
       "    .dataframe tbody tr th:only-of-type {\n",
       "        vertical-align: middle;\n",
       "    }\n",
       "\n",
       "    .dataframe tbody tr th {\n",
       "        vertical-align: top;\n",
       "    }\n",
       "\n",
       "    .dataframe thead th {\n",
       "        text-align: right;\n",
       "    }\n",
       "</style>\n",
       "<table border=\"1\" class=\"dataframe\">\n",
       "  <thead>\n",
       "    <tr style=\"text-align: right;\">\n",
       "      <th></th>\n",
       "      <th>Open</th>\n",
       "      <th>High</th>\n",
       "      <th>Low</th>\n",
       "      <th>Close</th>\n",
       "      <th>Volume</th>\n",
       "    </tr>\n",
       "  </thead>\n",
       "  <tbody>\n",
       "    <tr>\n",
       "      <th>2024-07-31</th>\n",
       "      <td>191.00</td>\n",
       "      <td>194.5499</td>\n",
       "      <td>189.990</td>\n",
       "      <td>192.14</td>\n",
       "      <td>5459871.0</td>\n",
       "    </tr>\n",
       "    <tr>\n",
       "      <th>2024-07-30</th>\n",
       "      <td>191.48</td>\n",
       "      <td>192.7700</td>\n",
       "      <td>189.090</td>\n",
       "      <td>191.04</td>\n",
       "      <td>3064978.0</td>\n",
       "    </tr>\n",
       "    <tr>\n",
       "      <th>2024-07-29</th>\n",
       "      <td>193.18</td>\n",
       "      <td>193.2900</td>\n",
       "      <td>189.180</td>\n",
       "      <td>191.50</td>\n",
       "      <td>3336806.0</td>\n",
       "    </tr>\n",
       "    <tr>\n",
       "      <th>2024-07-26</th>\n",
       "      <td>190.51</td>\n",
       "      <td>193.5700</td>\n",
       "      <td>189.622</td>\n",
       "      <td>191.75</td>\n",
       "      <td>4294875.0</td>\n",
       "    </tr>\n",
       "    <tr>\n",
       "      <th>2024-07-25</th>\n",
       "      <td>186.80</td>\n",
       "      <td>196.2600</td>\n",
       "      <td>185.300</td>\n",
       "      <td>191.98</td>\n",
       "      <td>9532802.0</td>\n",
       "    </tr>\n",
       "    <tr>\n",
       "      <th>...</th>\n",
       "      <td>...</td>\n",
       "      <td>...</td>\n",
       "      <td>...</td>\n",
       "      <td>...</td>\n",
       "      <td>...</td>\n",
       "    </tr>\n",
       "    <tr>\n",
       "      <th>2024-03-14</th>\n",
       "      <td>196.95</td>\n",
       "      <td>197.7480</td>\n",
       "      <td>192.120</td>\n",
       "      <td>193.43</td>\n",
       "      <td>4102202.0</td>\n",
       "    </tr>\n",
       "    <tr>\n",
       "      <th>2024-03-13</th>\n",
       "      <td>197.55</td>\n",
       "      <td>198.1000</td>\n",
       "      <td>195.320</td>\n",
       "      <td>196.70</td>\n",
       "      <td>3960737.0</td>\n",
       "    </tr>\n",
       "    <tr>\n",
       "      <th>2024-03-12</th>\n",
       "      <td>192.46</td>\n",
       "      <td>199.1800</td>\n",
       "      <td>192.150</td>\n",
       "      <td>197.78</td>\n",
       "      <td>5862512.0</td>\n",
       "    </tr>\n",
       "    <tr>\n",
       "      <th>2024-03-11</th>\n",
       "      <td>195.09</td>\n",
       "      <td>195.3800</td>\n",
       "      <td>190.880</td>\n",
       "      <td>191.73</td>\n",
       "      <td>4712688.0</td>\n",
       "    </tr>\n",
       "    <tr>\n",
       "      <th>2024-03-08</th>\n",
       "      <td>196.06</td>\n",
       "      <td>197.7700</td>\n",
       "      <td>194.380</td>\n",
       "      <td>195.95</td>\n",
       "      <td>3943113.0</td>\n",
       "    </tr>\n",
       "  </tbody>\n",
       "</table>\n",
       "<p>100 rows × 5 columns</p>\n",
       "</div>"
      ],
      "text/plain": [
       "              Open      High      Low   Close     Volume\n",
       "2024-07-31  191.00  194.5499  189.990  192.14  5459871.0\n",
       "2024-07-30  191.48  192.7700  189.090  191.04  3064978.0\n",
       "2024-07-29  193.18  193.2900  189.180  191.50  3336806.0\n",
       "2024-07-26  190.51  193.5700  189.622  191.75  4294875.0\n",
       "2024-07-25  186.80  196.2600  185.300  191.98  9532802.0\n",
       "...            ...       ...      ...     ...        ...\n",
       "2024-03-14  196.95  197.7480  192.120  193.43  4102202.0\n",
       "2024-03-13  197.55  198.1000  195.320  196.70  3960737.0\n",
       "2024-03-12  192.46  199.1800  192.150  197.78  5862512.0\n",
       "2024-03-11  195.09  195.3800  190.880  191.73  4712688.0\n",
       "2024-03-08  196.06  197.7700  194.380  195.95  3943113.0\n",
       "\n",
       "[100 rows x 5 columns]"
      ]
     },
     "execution_count": 33,
     "metadata": {},
     "output_type": "execute_result"
    }
   ],
   "source": [
    "mapper={}\n",
    "old= list(bse_df.columns)\n",
    "new= (str(x[3:]).capitalize()for x in old)\n",
    "for x,y in zip(old, new):\n",
    "    mapper[x]=y\n",
    "bse_df.rename(columns=mapper, inplace=True)\n",
    "bse_df"
   ]
  },
  {
   "cell_type": "markdown",
   "id": "404e2a7c",
   "metadata": {},
   "source": [
    "## Exporting"
   ]
  },
  {
   "cell_type": "code",
   "execution_count": 38,
   "id": "3ddfdeab",
   "metadata": {},
   "outputs": [],
   "source": [
    "bse_df.to_csv('bse_stock_data.csv')"
   ]
  },
  {
   "cell_type": "code",
   "execution_count": null,
   "id": "d0d7f3e9",
   "metadata": {},
   "outputs": [],
   "source": []
  },
  {
   "cell_type": "code",
   "execution_count": null,
   "id": "d7d70d03",
   "metadata": {},
   "outputs": [],
   "source": []
  }
 ],
 "metadata": {
  "kernelspec": {
   "display_name": "Python 3 (ipykernel)",
   "language": "python",
   "name": "python3"
  },
  "language_info": {
   "codemirror_mode": {
    "name": "ipython",
    "version": 3
   },
   "file_extension": ".py",
   "mimetype": "text/x-python",
   "name": "python",
   "nbconvert_exporter": "python",
   "pygments_lexer": "ipython3",
   "version": "3.10.9"
  }
 },
 "nbformat": 4,
 "nbformat_minor": 5
}
