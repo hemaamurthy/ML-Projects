{
 "cells": [
  {
   "cell_type": "markdown",
   "id": "a588b066",
   "metadata": {},
   "source": [
    "## 1) Data Loading and Exploration"
   ]
  },
  {
   "cell_type": "markdown",
   "id": "0fefc511",
   "metadata": {},
   "source": [
    "#### *Purpose: Import necessary libraries and load the dataset."
   ]
  },
  {
   "cell_type": "code",
   "execution_count": 4,
   "id": "bef3653f",
   "metadata": {},
   "outputs": [],
   "source": [
    "import pandas as pd\n",
    "import numpy as np\n",
    "import matplotlib.pyplot as plt\n",
    "from scipy.optimize import linprog\n",
    "import seaborn as sns"
   ]
  },
  {
   "cell_type": "code",
   "execution_count": 5,
   "id": "3c52aafe",
   "metadata": {
    "scrolled": true
   },
   "outputs": [
    {
     "data": {
      "text/html": [
       "<div>\n",
       "<style scoped>\n",
       "    .dataframe tbody tr th:only-of-type {\n",
       "        vertical-align: middle;\n",
       "    }\n",
       "\n",
       "    .dataframe tbody tr th {\n",
       "        vertical-align: top;\n",
       "    }\n",
       "\n",
       "    .dataframe thead th {\n",
       "        text-align: right;\n",
       "    }\n",
       "</style>\n",
       "<table border=\"1\" class=\"dataframe\">\n",
       "  <thead>\n",
       "    <tr style=\"text-align: right;\">\n",
       "      <th></th>\n",
       "      <th>Product_Code</th>\n",
       "      <th>Warehouse</th>\n",
       "      <th>Product_Category</th>\n",
       "      <th>Date</th>\n",
       "      <th>Order_Demand</th>\n",
       "    </tr>\n",
       "  </thead>\n",
       "  <tbody>\n",
       "    <tr>\n",
       "      <th>0</th>\n",
       "      <td>Product_0993</td>\n",
       "      <td>Whse_J</td>\n",
       "      <td>Category_028</td>\n",
       "      <td>2012/7/27</td>\n",
       "      <td>100</td>\n",
       "    </tr>\n",
       "    <tr>\n",
       "      <th>1</th>\n",
       "      <td>Product_0979</td>\n",
       "      <td>Whse_J</td>\n",
       "      <td>Category_028</td>\n",
       "      <td>2012/1/19</td>\n",
       "      <td>500</td>\n",
       "    </tr>\n",
       "    <tr>\n",
       "      <th>2</th>\n",
       "      <td>Product_0979</td>\n",
       "      <td>Whse_J</td>\n",
       "      <td>Category_028</td>\n",
       "      <td>2012/2/3</td>\n",
       "      <td>500</td>\n",
       "    </tr>\n",
       "    <tr>\n",
       "      <th>3</th>\n",
       "      <td>Product_0979</td>\n",
       "      <td>Whse_J</td>\n",
       "      <td>Category_028</td>\n",
       "      <td>2012/2/9</td>\n",
       "      <td>500</td>\n",
       "    </tr>\n",
       "    <tr>\n",
       "      <th>4</th>\n",
       "      <td>Product_0979</td>\n",
       "      <td>Whse_J</td>\n",
       "      <td>Category_028</td>\n",
       "      <td>2012/3/2</td>\n",
       "      <td>500</td>\n",
       "    </tr>\n",
       "  </tbody>\n",
       "</table>\n",
       "</div>"
      ],
      "text/plain": [
       "   Product_Code Warehouse Product_Category       Date Order_Demand\n",
       "0  Product_0993    Whse_J     Category_028  2012/7/27         100 \n",
       "1  Product_0979    Whse_J     Category_028  2012/1/19         500 \n",
       "2  Product_0979    Whse_J     Category_028   2012/2/3         500 \n",
       "3  Product_0979    Whse_J     Category_028   2012/2/9         500 \n",
       "4  Product_0979    Whse_J     Category_028   2012/3/2         500 "
      ]
     },
     "execution_count": 5,
     "metadata": {},
     "output_type": "execute_result"
    }
   ],
   "source": [
    "df = pd.read_csv(\"C:\\\\Users\\\\91812\\\\Downloads\\\\historical_product_demand.csv\")\n",
    "df.head()"
   ]
  },
  {
   "cell_type": "markdown",
   "id": "a2af6a3a",
   "metadata": {},
   "source": [
    "## 2) Initial Data Check"
   ]
  },
  {
   "cell_type": "markdown",
   "id": "936a648b",
   "metadata": {},
   "source": [
    "### Purpose: Understand the dataset structure, types of columns, summary statistics, and check for missing values. "
   ]
  },
  {
   "cell_type": "code",
   "execution_count": 6,
   "id": "26f970f7",
   "metadata": {},
   "outputs": [
    {
     "data": {
      "text/plain": [
       "(1048575, 5)"
      ]
     },
     "execution_count": 6,
     "metadata": {},
     "output_type": "execute_result"
    }
   ],
   "source": [
    "df.shape\n",
    "#shows the number of rows and columns."
   ]
  },
  {
   "cell_type": "code",
   "execution_count": 7,
   "id": "e3e01ca8",
   "metadata": {},
   "outputs": [
    {
     "name": "stdout",
     "output_type": "stream",
     "text": [
      "<class 'pandas.core.frame.DataFrame'>\n",
      "RangeIndex: 1048575 entries, 0 to 1048574\n",
      "Data columns (total 5 columns):\n",
      " #   Column            Non-Null Count    Dtype \n",
      "---  ------            --------------    ----- \n",
      " 0   Product_Code      1048575 non-null  object\n",
      " 1   Warehouse         1048575 non-null  object\n",
      " 2   Product_Category  1048575 non-null  object\n",
      " 3   Date              1037336 non-null  object\n",
      " 4   Order_Demand      1048575 non-null  object\n",
      "dtypes: object(5)\n",
      "memory usage: 40.0+ MB\n"
     ]
    }
   ],
   "source": [
    "#provides data types and non-null counts for each column\n",
    "df.info()"
   ]
  },
  {
   "cell_type": "code",
   "execution_count": 8,
   "id": "726158d0",
   "metadata": {},
   "outputs": [
    {
     "data": {
      "text/html": [
       "<div>\n",
       "<style scoped>\n",
       "    .dataframe tbody tr th:only-of-type {\n",
       "        vertical-align: middle;\n",
       "    }\n",
       "\n",
       "    .dataframe tbody tr th {\n",
       "        vertical-align: top;\n",
       "    }\n",
       "\n",
       "    .dataframe thead th {\n",
       "        text-align: right;\n",
       "    }\n",
       "</style>\n",
       "<table border=\"1\" class=\"dataframe\">\n",
       "  <thead>\n",
       "    <tr style=\"text-align: right;\">\n",
       "      <th></th>\n",
       "      <th>Product_Code</th>\n",
       "      <th>Warehouse</th>\n",
       "      <th>Product_Category</th>\n",
       "      <th>Date</th>\n",
       "      <th>Order_Demand</th>\n",
       "    </tr>\n",
       "  </thead>\n",
       "  <tbody>\n",
       "    <tr>\n",
       "      <th>count</th>\n",
       "      <td>1048575</td>\n",
       "      <td>1048575</td>\n",
       "      <td>1048575</td>\n",
       "      <td>1037336</td>\n",
       "      <td>1048575</td>\n",
       "    </tr>\n",
       "    <tr>\n",
       "      <th>unique</th>\n",
       "      <td>2160</td>\n",
       "      <td>4</td>\n",
       "      <td>33</td>\n",
       "      <td>1729</td>\n",
       "      <td>3828</td>\n",
       "    </tr>\n",
       "    <tr>\n",
       "      <th>top</th>\n",
       "      <td>Product_1359</td>\n",
       "      <td>Whse_J</td>\n",
       "      <td>Category_019</td>\n",
       "      <td>2013/9/27</td>\n",
       "      <td>1000</td>\n",
       "    </tr>\n",
       "    <tr>\n",
       "      <th>freq</th>\n",
       "      <td>16936</td>\n",
       "      <td>764447</td>\n",
       "      <td>481099</td>\n",
       "      <td>2075</td>\n",
       "      <td>112682</td>\n",
       "    </tr>\n",
       "  </tbody>\n",
       "</table>\n",
       "</div>"
      ],
      "text/plain": [
       "        Product_Code Warehouse Product_Category       Date Order_Demand\n",
       "count        1048575   1048575          1048575    1037336      1048575\n",
       "unique          2160         4               33       1729         3828\n",
       "top     Product_1359    Whse_J     Category_019  2013/9/27        1000 \n",
       "freq           16936    764447           481099       2075       112682"
      ]
     },
     "execution_count": 8,
     "metadata": {},
     "output_type": "execute_result"
    }
   ],
   "source": [
    "#gives a statistical summary for numeric columns.\n",
    "df.describe()"
   ]
  },
  {
   "cell_type": "code",
   "execution_count": 9,
   "id": "5e245d2b",
   "metadata": {},
   "outputs": [
    {
     "data": {
      "text/plain": [
       "<bound method NDFrame._add_numeric_operations.<locals>.sum of          Product_Code  Warehouse  Product_Category   Date  Order_Demand\n",
       "0               False      False             False  False         False\n",
       "1               False      False             False  False         False\n",
       "2               False      False             False  False         False\n",
       "3               False      False             False  False         False\n",
       "4               False      False             False  False         False\n",
       "...               ...        ...               ...    ...           ...\n",
       "1048570         False      False             False  False         False\n",
       "1048571         False      False             False  False         False\n",
       "1048572         False      False             False  False         False\n",
       "1048573         False      False             False  False         False\n",
       "1048574         False      False             False  False         False\n",
       "\n",
       "[1048575 rows x 5 columns]>"
      ]
     },
     "execution_count": 9,
     "metadata": {},
     "output_type": "execute_result"
    }
   ],
   "source": [
    "#checks for missing values.\n",
    "df.isnull().sum"
   ]
  },
  {
   "cell_type": "markdown",
   "id": "94f5fcd0",
   "metadata": {},
   "source": [
    "## 3) Convert 'Order_Demand' to Numeric"
   ]
  },
  {
   "cell_type": "markdown",
   "id": "5f29d853",
   "metadata": {},
   "source": [
    "### Purpose: Ensure 'Order_Demand' is numeric, which is necessary for calculations and analysis."
   ]
  },
  {
   "cell_type": "code",
   "execution_count": 10,
   "id": "41987505",
   "metadata": {},
   "outputs": [],
   "source": [
    "#Converts Order_Demand to numeric, \"Order_Demand\" is selected as the primary metric\n",
    "#because it directly represents the quantity of products that customers are ordering. \n",
    "df[\"Order_Demand\"] = pd.to_numeric(df[\"Order_Demand\"],errors=\"coerce\")"
   ]
  },
  {
   "cell_type": "markdown",
   "id": "12951fb4",
   "metadata": {},
   "source": [
    "## 4) Sorting Dates and Setting Index"
   ]
  },
  {
   "cell_type": "markdown",
   "id": "48b66b1c",
   "metadata": {},
   "source": [
    "#### sorting dates and setting the index to datetime format are preparatory steps that make the dataset ready for accurate and efficient time-based analysis, which is critical for tasks like demand forecasting and inventory optimization."
   ]
  },
  {
   "cell_type": "code",
   "execution_count": 11,
   "id": "d7f3672d",
   "metadata": {
    "scrolled": true
   },
   "outputs": [
    {
     "data": {
      "text/html": [
       "<div>\n",
       "<style scoped>\n",
       "    .dataframe tbody tr th:only-of-type {\n",
       "        vertical-align: middle;\n",
       "    }\n",
       "\n",
       "    .dataframe tbody tr th {\n",
       "        vertical-align: top;\n",
       "    }\n",
       "\n",
       "    .dataframe thead th {\n",
       "        text-align: right;\n",
       "    }\n",
       "</style>\n",
       "<table border=\"1\" class=\"dataframe\">\n",
       "  <thead>\n",
       "    <tr style=\"text-align: right;\">\n",
       "      <th></th>\n",
       "      <th>Product_Code</th>\n",
       "      <th>Warehouse</th>\n",
       "      <th>Product_Category</th>\n",
       "      <th>Order_Demand</th>\n",
       "    </tr>\n",
       "  </thead>\n",
       "  <tbody>\n",
       "    <tr>\n",
       "      <th>1970-01-01 00:00:00.000000000</th>\n",
       "      <td>Product_0993</td>\n",
       "      <td>Whse_J</td>\n",
       "      <td>Category_028</td>\n",
       "      <td>100.0</td>\n",
       "    </tr>\n",
       "    <tr>\n",
       "      <th>1970-01-01 00:00:00.000000001</th>\n",
       "      <td>Product_0979</td>\n",
       "      <td>Whse_J</td>\n",
       "      <td>Category_028</td>\n",
       "      <td>500.0</td>\n",
       "    </tr>\n",
       "    <tr>\n",
       "      <th>1970-01-01 00:00:00.000000002</th>\n",
       "      <td>Product_0979</td>\n",
       "      <td>Whse_J</td>\n",
       "      <td>Category_028</td>\n",
       "      <td>500.0</td>\n",
       "    </tr>\n",
       "    <tr>\n",
       "      <th>1970-01-01 00:00:00.000000003</th>\n",
       "      <td>Product_0979</td>\n",
       "      <td>Whse_J</td>\n",
       "      <td>Category_028</td>\n",
       "      <td>500.0</td>\n",
       "    </tr>\n",
       "    <tr>\n",
       "      <th>1970-01-01 00:00:00.000000004</th>\n",
       "      <td>Product_0979</td>\n",
       "      <td>Whse_J</td>\n",
       "      <td>Category_028</td>\n",
       "      <td>500.0</td>\n",
       "    </tr>\n",
       "    <tr>\n",
       "      <th>...</th>\n",
       "      <td>...</td>\n",
       "      <td>...</td>\n",
       "      <td>...</td>\n",
       "      <td>...</td>\n",
       "    </tr>\n",
       "    <tr>\n",
       "      <th>1970-01-01 00:00:00.001048570</th>\n",
       "      <td>Product_1791</td>\n",
       "      <td>Whse_J</td>\n",
       "      <td>Category_006</td>\n",
       "      <td>1000.0</td>\n",
       "    </tr>\n",
       "    <tr>\n",
       "      <th>1970-01-01 00:00:00.001048571</th>\n",
       "      <td>Product_1974</td>\n",
       "      <td>Whse_J</td>\n",
       "      <td>Category_006</td>\n",
       "      <td>1.0</td>\n",
       "    </tr>\n",
       "    <tr>\n",
       "      <th>1970-01-01 00:00:00.001048572</th>\n",
       "      <td>Product_1787</td>\n",
       "      <td>Whse_J</td>\n",
       "      <td>Category_006</td>\n",
       "      <td>2500.0</td>\n",
       "    </tr>\n",
       "    <tr>\n",
       "      <th>1970-01-01 00:00:00.001048573</th>\n",
       "      <td>Product_0901</td>\n",
       "      <td>Whse_J</td>\n",
       "      <td>Category_023</td>\n",
       "      <td>50.0</td>\n",
       "    </tr>\n",
       "    <tr>\n",
       "      <th>1970-01-01 00:00:00.001048574</th>\n",
       "      <td>Product_0704</td>\n",
       "      <td>Whse_J</td>\n",
       "      <td>Category_001</td>\n",
       "      <td>4.0</td>\n",
       "    </tr>\n",
       "  </tbody>\n",
       "</table>\n",
       "<p>1048575 rows × 4 columns</p>\n",
       "</div>"
      ],
      "text/plain": [
       "                               Product_Code Warehouse Product_Category  \\\n",
       "1970-01-01 00:00:00.000000000  Product_0993    Whse_J     Category_028   \n",
       "1970-01-01 00:00:00.000000001  Product_0979    Whse_J     Category_028   \n",
       "1970-01-01 00:00:00.000000002  Product_0979    Whse_J     Category_028   \n",
       "1970-01-01 00:00:00.000000003  Product_0979    Whse_J     Category_028   \n",
       "1970-01-01 00:00:00.000000004  Product_0979    Whse_J     Category_028   \n",
       "...                                     ...       ...              ...   \n",
       "1970-01-01 00:00:00.001048570  Product_1791    Whse_J     Category_006   \n",
       "1970-01-01 00:00:00.001048571  Product_1974    Whse_J     Category_006   \n",
       "1970-01-01 00:00:00.001048572  Product_1787    Whse_J     Category_006   \n",
       "1970-01-01 00:00:00.001048573  Product_0901    Whse_J     Category_023   \n",
       "1970-01-01 00:00:00.001048574  Product_0704    Whse_J     Category_001   \n",
       "\n",
       "                               Order_Demand  \n",
       "1970-01-01 00:00:00.000000000         100.0  \n",
       "1970-01-01 00:00:00.000000001         500.0  \n",
       "1970-01-01 00:00:00.000000002         500.0  \n",
       "1970-01-01 00:00:00.000000003         500.0  \n",
       "1970-01-01 00:00:00.000000004         500.0  \n",
       "...                                     ...  \n",
       "1970-01-01 00:00:00.001048570        1000.0  \n",
       "1970-01-01 00:00:00.001048571           1.0  \n",
       "1970-01-01 00:00:00.001048572        2500.0  \n",
       "1970-01-01 00:00:00.001048573          50.0  \n",
       "1970-01-01 00:00:00.001048574           4.0  \n",
       "\n",
       "[1048575 rows x 4 columns]"
      ]
     },
     "execution_count": 11,
     "metadata": {},
     "output_type": "execute_result"
    }
   ],
   "source": [
    "df. Date.sort_values().unique()[:10]\n",
    "data= df.set_index('Date')\n",
    "data.index=pd.to_datetime(df.index)\n",
    "data"
   ]
  },
  {
   "cell_type": "markdown",
   "id": "47ba8400",
   "metadata": {},
   "source": [
    "## Data Visualization"
   ]
  },
  {
   "cell_type": "code",
   "execution_count": 12,
   "id": "7d367f51",
   "metadata": {},
   "outputs": [
    {
     "data": {
      "text/plain": [
       "<Axes: xlabel='Warehouse', ylabel='count'>"
      ]
     },
     "execution_count": 12,
     "metadata": {},
     "output_type": "execute_result"
    },
    {
     "data": {
      "image/png": "[encoded data removed]",
      "text/plain": [
       "<Figure size 640x480 with 1 Axes>"
      ]
     },
     "metadata": {},
     "output_type": "display_data"
    }
   ],
   "source": [
    "#Visualize the count of records for each warehouse.\n",
    "sns.countplot(x='Warehouse',data=df)"
   ]
  },
  {
   "cell_type": "code",
   "execution_count": null,
   "id": "d9805247",
   "metadata": {},
   "outputs": [],
   "source": [
    "#Whse_J\" is the busiest warehouse, significantly more active than the others,\n",
    "#indicating it's likely the central hub for order processing."
   ]
  },
  {
   "cell_type": "code",
   "execution_count": 13,
   "id": "1f377638",
   "metadata": {},
   "outputs": [
    {
     "data": {
      "text/plain": [
       "Warehouse\n",
       "Whse_A    1.511523e+08\n",
       "Whse_C    5.834583e+08\n",
       "Whse_J    3.353861e+09\n",
       "Whse_S    1.036126e+09\n",
       "Name: Order_Demand, dtype: float64"
      ]
     },
     "execution_count": 13,
     "metadata": {},
     "output_type": "execute_result"
    }
   ],
   "source": [
    "warehouse_Demand = data.groupby('Warehouse')['Order_Demand'].sum()\n",
    "warehouse_Demand"
   ]
  },
  {
   "cell_type": "markdown",
   "id": "32a42fa2",
   "metadata": {},
   "source": [
    "#### warehouse_Demand gives you the total demand of orders for each warehouse by summing up all the order demands for each warehouse separately."
   ]
  },
  {
   "cell_type": "markdown",
   "id": "35e305b5",
   "metadata": {},
   "source": [
    "## Key Metrics Calculation"
   ]
  },
  {
   "cell_type": "code",
   "execution_count": null,
   "id": "3ad51423",
   "metadata": {},
   "outputs": [],
   "source": [
    "#Calculate average demand, initial inventory, and maximum inventory."
   ]
  },
  {
   "cell_type": "code",
   "execution_count": 14,
   "id": "8631ab9d",
   "metadata": {},
   "outputs": [
    {
     "data": {
      "text/plain": [
       "4936.48800893165"
      ]
     },
     "execution_count": 14,
     "metadata": {},
     "output_type": "execute_result"
    }
   ],
   "source": [
    "demand = df[\"Order_Demand\"].mean()\n",
    "demand"
   ]
  },
  {
   "cell_type": "markdown",
   "id": "d299ee16",
   "metadata": {},
   "source": [
    "#### The total amount of all products ordered historically.\n",
    "#### It gives us an idea of how much product has been needed in the past."
   ]
  },
  {
   "cell_type": "code",
   "execution_count": 15,
   "id": "860cf96f",
   "metadata": {},
   "outputs": [
    {
     "data": {
      "text/plain": [
       "5124597821.0"
      ]
     },
     "execution_count": 15,
     "metadata": {},
     "output_type": "execute_result"
    }
   ],
   "source": [
    "initial_inventory = df[\"Order_Demand\"].sum()\n",
    "initial_inventory # Why: This gives us an idea of how much inventory has been needed in the past."
   ]
  },
  {
   "cell_type": "markdown",
   "id": "d7697297",
   "metadata": {},
   "source": [
    "#### This is set to twice the initial inventory.\n",
    "#### It’s a safety buffer to ensure we have enough stock to meet any unexpected increases in demand."
   ]
  },
  {
   "cell_type": "code",
   "execution_count": 16,
   "id": "181f5142",
   "metadata": {},
   "outputs": [
    {
     "data": {
      "text/plain": [
       "10249195642.0"
      ]
     },
     "execution_count": 16,
     "metadata": {},
     "output_type": "execute_result"
    }
   ],
   "source": [
    "max_inventory = initial_inventory * 2\n",
    "max_inventory  # preventing overstocking and high storage costs."
   ]
  },
  {
   "cell_type": "markdown",
   "id": "a8e0af2c",
   "metadata": {},
   "source": [
    "## Optimization Setup"
   ]
  },
  {
   "cell_type": "code",
   "execution_count": 17,
   "id": "eedc36b0",
   "metadata": {},
   "outputs": [],
   "source": [
    "holding_cost = 2 #Cost of holding one unit of inventory per day. \n",
    "ordering_cost = 50 #Cost of placing an order. \n",
    "holding_days = 30 #Number of days the inventory is held. Here, it's set to 30."
   ]
  },
  {
   "cell_type": "code",
   "execution_count": 18,
   "id": "183f29ed",
   "metadata": {},
   "outputs": [
    {
     "data": {
      "text/plain": [
       "[110]"
      ]
     },
     "execution_count": 18,
     "metadata": {},
     "output_type": "execute_result"
    }
   ],
   "source": [
    "c = [holding_cost * holding_days + ordering_cost]\n",
    "c"
   ]
  },
  {
   "cell_type": "code",
   "execution_count": 19,
   "id": "86e2ec55",
   "metadata": {},
   "outputs": [],
   "source": [
    "A= [[-1], [1]]\n",
    "B=[-demand, max_inventory - initial_inventory]\n",
    "bounds = [[0,None]]"
   ]
  },
  {
   "cell_type": "code",
   "execution_count": 1,
   "id": "392b6b1c",
   "metadata": {},
   "outputs": [],
   "source": [
    "#The function linprog() is a function used for linear programming optimization in Python.\n",
    "#In this case, the code successfully found the best solution for the given problem.\n",
    "#The optimal value for the objective function is around 543013.68, \n",
    "#and the decision variable x is determined to be approximately 4936. \n",
    "#The output also includes information about the status of the optimization process,\n",
    "#such as the number of iterations taken, any residuals (differences between actual and optimal values), \n",
    "#and the sensitivity of the constraints in the problem.\n",
    "#Overall, the code ran successfully, found the best solution, \n",
    "#and provided detailed information about the optimization process and results."
   ]
  },
  {
   "cell_type": "code",
   "execution_count": 20,
   "id": "1959e099",
   "metadata": {},
   "outputs": [
    {
     "data": {
      "text/plain": [
       "        message: Optimization terminated successfully. (HiGHS Status 7: Optimal)\n",
       "        success: True\n",
       "         status: 0\n",
       "            fun: 543013.6809824816\n",
       "              x: [ 4.936e+03]\n",
       "            nit: 0\n",
       "          lower:  residual: [ 4.936e+03]\n",
       "                 marginals: [ 0.000e+00]\n",
       "          upper:  residual: [       inf]\n",
       "                 marginals: [ 0.000e+00]\n",
       "          eqlin:  residual: []\n",
       "                 marginals: []\n",
       "        ineqlin:  residual: [ 0.000e+00  5.125e+09]\n",
       "                 marginals: [-1.100e+02 -0.000e+00]\n",
       " mip_node_count: 0\n",
       " mip_dual_bound: 0.0\n",
       "        mip_gap: 0.0"
      ]
     },
     "execution_count": 20,
     "metadata": {},
     "output_type": "execute_result"
    }
   ],
   "source": [
    "x = linprog(c, A_ub=A, b_ub=B, bounds= bounds)\n",
    "x"
   ]
  },
  {
   "cell_type": "code",
   "execution_count": null,
   "id": "c13eebc9",
   "metadata": {},
   "outputs": [],
   "source": [
    "#Optimal**: The solution found is the best possible solution given the constraints.\n",
    "-# **fun**: The optimal value of the objective function (543013.6809824816 in this case).\n",
    "- #**x**: The optimal values of the decision variables (in this case, x = 4936).\n",
    "- #**nit**: The number of iterations taken to reach the optimal solution.\n",
    "- #**residual**: The difference between the actual value and the optimal value for different constraints.\n",
    "- #**marginals**: The shadow prices or sensitivities of the constraints in the optimization problem.\n",
    "- #**mip_dual_bound**: The dual bound in mixed-integer programming.\n",
    "- #**mip_gap**: The optimality gap in mixed-integer programming\n",
    ",#indicating how far the current best solution is from the best possible solution."
   ]
  },
  {
   "cell_type": "code",
   "execution_count": 46,
   "id": "ec63907f",
   "metadata": {},
   "outputs": [
    {
     "data": {
      "text/plain": [
       "4936.48800893165"
      ]
     },
     "execution_count": 46,
     "metadata": {},
     "output_type": "execute_result"
    }
   ],
   "source": [
    "optimal_order_quantity = x.x[0]\n",
    "total_cost = x.fun\n",
    "optimal_order_quantity"
   ]
  },
  {
   "cell_type": "code",
   "execution_count": 47,
   "id": "cc568b8a",
   "metadata": {},
   "outputs": [],
   "source": [
    "demand_change= 1.2\n",
    "holding_cost_change= 0.8\n",
    "lead_time_change= 1.5"
   ]
  },
  {
   "cell_type": "code",
   "execution_count": 48,
   "id": "38d825aa",
   "metadata": {},
   "outputs": [],
   "source": [
    "new_demand= demand* demand_change\n",
    "new_holding_cost= holding_cost*holding_cost_change\n",
    "new_lead_time= holding_days*holding_cost_change"
   ]
  },
  {
   "cell_type": "code",
   "execution_count": 49,
   "id": "e19fa081",
   "metadata": {},
   "outputs": [
    {
     "data": {
      "text/plain": [
       "5923.7856107179805"
      ]
     },
     "execution_count": 49,
     "metadata": {},
     "output_type": "execute_result"
    }
   ],
   "source": [
    "new_demand"
   ]
  },
  {
   "cell_type": "code",
   "execution_count": 50,
   "id": "9437e598",
   "metadata": {},
   "outputs": [
    {
     "data": {
      "text/plain": [
       "1.6"
      ]
     },
     "execution_count": 50,
     "metadata": {},
     "output_type": "execute_result"
    }
   ],
   "source": [
    "new_holding_cost"
   ]
  },
  {
   "cell_type": "code",
   "execution_count": 51,
   "id": "3a88f71d",
   "metadata": {},
   "outputs": [
    {
     "data": {
      "text/plain": [
       "24.0"
      ]
     },
     "execution_count": 51,
     "metadata": {},
     "output_type": "execute_result"
    }
   ],
   "source": [
    "new_lead_time"
   ]
  },
  {
   "cell_type": "code",
   "execution_count": 56,
   "id": "cd40201c",
   "metadata": {},
   "outputs": [],
   "source": [
    "    new_demand = demand * demand_change\n",
    "    new_holding_cost = holding_cost * holding_cost_change\n",
    "    new_lead_time= holding_days * holding_cost_change\n",
    "    new_c = [new_holding_cost + ordering_cost]\n",
    "    new_b = [-new_demand, max_inventory - initial_inventory]\n",
    "    new_x = linprog(new_c, A_ub=A, b_ub=new_b, bounds=bounds)\n",
    "    new_optimal_order_quantity = new_x.x[0]"
   ]
  },
  {
   "cell_type": "code",
   "execution_count": 59,
   "id": "75444cf2",
   "metadata": {},
   "outputs": [],
   "source": [
    "    new_demand = demand * demand_change\n",
    "    new_holding_cost = holding_cost * holding_cost_change\n",
    "    new_lead_time= holding_days * holding_cost_change\n",
    "    new_c = [new_holding_cost + ordering_cost]\n",
    "    new_b = [-new_demand, max_inventory - initial_inventory]\n",
    "    new_x = linprog(new_c, A_ub=A, b_ub=new_b, bounds=bounds)\n",
    "    new_total_cost = new_x.fun"
   ]
  },
  {
   "cell_type": "markdown",
   "id": "9c253f13",
   "metadata": {},
   "source": [
    "## Sensitivity_analysis"
   ]
  },
  {
   "cell_type": "markdown",
   "id": "745eb6df",
   "metadata": {},
   "source": [
    "### Purpose: Analyze how changes in demand, holding costs, and lead time affect optimal order quantity and total costs."
   ]
  },
  {
   "cell_type": "code",
   "execution_count": 60,
   "id": "f717e0ee",
   "metadata": {},
   "outputs": [],
   "source": [
    "def sensitivity_analysis(demand_change, holding_cost_change, lead_time_change):\n",
    "    new_demand = demand * demand_change\n",
    "    new_holding_cost = holding_cost * holding_cost_change\n",
    "    new_lead_time= holding_days * holding_cost_change\n",
    "    new_c = [new_holding_cost + ordering_cost]\n",
    "    new_b = [-new_demand, max_inventory - initial_inventory]\n",
    "    new_x = linprog(new_c, A_ub=A, b_ub=new_b, bounds=bounds)\n",
    "    new_optimal_order_quantity = new_x.x[0]\n",
    "    new_total_cost = new_x.fun\n",
    "    return new_optimal_order_quantity, new_total_cost\n",
    "   \n"
   ]
  },
  {
   "cell_type": "code",
   "execution_count": 61,
   "id": "157275a2",
   "metadata": {},
   "outputs": [
    {
     "data": {
      "text/plain": [
       "5923.7856107179805"
      ]
     },
     "execution_count": 61,
     "metadata": {},
     "output_type": "execute_result"
    }
   ],
   "source": [
    "new_optimal_order_quantity "
   ]
  },
  {
   "cell_type": "code",
   "execution_count": 62,
   "id": "60a2ff0b",
   "metadata": {},
   "outputs": [
    {
     "data": {
      "text/plain": [
       "305667.3375130478"
      ]
     },
     "execution_count": 62,
     "metadata": {},
     "output_type": "execute_result"
    }
   ],
   "source": [
    "new_total_cost"
   ]
  },
  {
   "cell_type": "code",
   "execution_count": 71,
   "id": "025ae014",
   "metadata": {},
   "outputs": [],
   "source": [
    "optimal_order_quantity_sensitivity, total_cost_sensitivity = sensitivity_analysis(\n",
    "    demand_change, holding_cost_change, lead_time_change)"
   ]
  },
  {
   "cell_type": "code",
   "execution_count": 74,
   "id": "65962a60",
   "metadata": {},
   "outputs": [
    {
     "name": "stdout",
     "output_type": "stream",
     "text": [
      "Sensitivity Analysis:\n",
      "Optimal Order Quantity Sensitivity : 5923.7856107179805\n",
      "Total Cost Sensitivity: 305667.3375130478\n"
     ]
    }
   ],
   "source": [
    "print (\"Sensitivity Analysis:\")\n",
    "print (\"Optimal Order Quantity Sensitivity :\", optimal_order_quantity_sensitivity)\n",
    "print (\"Total Cost Sensitivity:\",total_cost_sensitivity)\n"
   ]
  },
  {
   "cell_type": "markdown",
   "id": "3d7914ce",
   "metadata": {},
   "source": [
    "## Visualizations"
   ]
  },
  {
   "cell_type": "markdown",
   "id": "7476d26e",
   "metadata": {},
   "source": [
    "## *Total Cost Comparison Chart"
   ]
  },
  {
   "cell_type": "markdown",
   "id": "ea594141",
   "metadata": {},
   "source": [
    "### Purpose: To compare the total inventory costs between the original scenario and the sensitivity analysis scenario."
   ]
  },
  {
   "cell_type": "code",
   "execution_count": 83,
   "id": "6e518c0a",
   "metadata": {},
   "outputs": [
    {
     "data": {
      "image/png": "[encoded data removed]",
      "text/plain": [
       "<Figure size 640x480 with 1 Axes>"
      ]
     },
     "metadata": {},
     "output_type": "display_data"
    }
   ],
   "source": [
    "labels = [\"Original\", \"Sensitivity\"]\n",
    "total_costs = [total_cost, total_cost_sensitivity]\n",
    "plt.bar(labels, total_costs, color=['skyblue', 'lightgreen'])\n",
    "plt.xlabel(\"Scenario\")\n",
    "plt.ylabel(\"Total Cost\")\n",
    "plt.title(\"Total Cost Comparison\")\n",
    "plt.show()"
   ]
  },
  {
   "cell_type": "markdown",
   "id": "8cf09bfa",
   "metadata": {},
   "source": [
    "### Observation: The total cost in the sensitivity scenario is lower than in the original scenario, indicating that the changes made have resulted in cost savings."
   ]
  },
  {
   "cell_type": "markdown",
   "id": "5fc09668",
   "metadata": {},
   "source": [
    "## *Optimal Order Quantity Chart"
   ]
  },
  {
   "cell_type": "markdown",
   "id": "bfadc59e",
   "metadata": {},
   "source": [
    "### Purpose: To compare the optimal order quantities between the original scenario and the sensitivity analysis scenario."
   ]
  },
  {
   "cell_type": "code",
   "execution_count": 81,
   "id": "1793f86f",
   "metadata": {
    "scrolled": true
   },
   "outputs": [
    {
     "data": {
      "image/png": "[encoded data removed]",
      "text/plain": [
       "<Figure size 640x480 with 1 Axes>"
      ]
     },
     "metadata": {},
     "output_type": "display_data"
    }
   ],
   "source": [
    "labels = [\"Original\", \"Sensitivity\"]\n",
    "optimal_orders = [optimal_order_quantity, optimal_order_quantity_sensitivity]\n",
    "plt.bar(labels, optimal_orders, color=['pink', 'yellow'])\n",
    "plt.xlabel(\"scenario\")\n",
    "plt.ylabel(\"Optimal Orders\")\n",
    "plt.title(\"Optimal Order \")\n",
    "plt.show()"
   ]
  },
  {
   "cell_type": "markdown",
   "id": "7450f3ff",
   "metadata": {},
   "source": [
    "### Observation: The optimal order quantity in the sensitivity scenario is higher than in the original scenario. This means that the changes led to a recommendation to order more items to minimize costs."
   ]
  },
  {
   "cell_type": "code",
   "execution_count": null,
   "id": "13566b50",
   "metadata": {},
   "outputs": [],
   "source": []
  }
 ],
 "metadata": {
  "kernelspec": {
   "display_name": "Python 3 (ipykernel)",
   "language": "python",
   "name": "python3"
  },
  "language_info": {
   "codemirror_mode": {
    "name": "ipython",
    "version": 3
   },
   "file_extension": ".py",
   "mimetype": "text/x-python",
   "name": "python",
   "nbconvert_exporter": "python",
   "pygments_lexer": "ipython3",
   "version": "3.10.9"
  }
 },
 "nbformat": 4,
 "nbformat_minor": 5
}
